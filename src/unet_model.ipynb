{
 "cells": [
  {
   "cell_type": "code",
   "execution_count": null,
   "id": "57bf6f96-8c8a-4e44-ace8-06993ab208aa",
   "metadata": {},
   "outputs": [],
   "source": [
    "from torch.utils.data import Dataset, DataLoader\n",
    "from PIL import Image\n",
    "import os\n",
    "from sklearn.model_selection import train_test_split\n",
    "from torchvision import transforms\n",
    "\n",
    "imageTransform = transforms.Compose([transforms.ToTensor(), transforms.Normalize((0.5, 0.5, 0.5), (0.5, 0.5, 0.5))])\n",
    "maskTransform = transforms.Compose([transforms.ToTensor()])\n",
    "\n",
    "class LandslideDataset(Dataset):\n",
    "    train_list = None\n",
    "    train_mask = None\n",
    "    test_list = None\n",
    "    test_mask = None\n",
    "\n",
    "    @classmethod\n",
    "    def splitData(cls, dataset_dir):\n",
    "        image_dir = os.path.join(dataset_dir, \"img\")\n",
    "        mask_dir = os.path.join(dataset_dir, \"mask\")\n",
    "\n",
    "        all_images = sorted(os.listdir(image_dir))\n",
    "        train_set, test_set = train_test_split(all_images, test_size=.2, random_state=42)\n",
    "        # issue here with mask/img/...\n",
    "        train_mask = [os.path.join(mask_dir, img_name) for img_name in train_set]\n",
    "        test_mask = [os.path.join(mask_dir, img_name) for img_name in test_set]\n",
    "\n",
    "        cls.train_list = train_set\n",
    "        cls.train_mask = train_mask\n",
    "        cls.test_list = test_set\n",
    "        cls.test_mask = test_mask\n",
    "\n",
    "    def __init__(self, isTrain):\n",
    "        if(isTrain):\n",
    "            self.img_list = LandslideDataset.train_list\n",
    "            self.mask_list = LandslideDataset.train_mask\n",
    "        else:\n",
    "            self.img_list = LandslideDataset.test_list\n",
    "            self.mask_list = LandslideDataset.test_mask\n",
    "    \n",
    "    def __len__(self):\n",
    "        return len(self.img_list)\n",
    "    \n",
    "    def __getitem__(self, index):\n",
    "        img_dir = self.img_list[index]\n",
    "        mask_dir = self.mask_list[index]\n",
    "\n",
    "        img = Image.open(img_dir).convert(\"RGB\")\n",
    "        mask = Image.open(mask_dir).convert(\"L\")\n",
    "\n",
    "        imageTransform(img)\n",
    "        maskTransform(mask)\n",
    "\n",
    "        return img, mask\n",
    "\n",
    "\n",
    "LandslideDataset.splitData(\"data/Wenchuan\")\n",
    "\n",
    "train_dataset = LandslideDataset(isTrain=True)\n",
    "test_dataset = LandslideDataset(isTrain=False)\n",
    "\n",
    "batch_size = 4\n",
    "\n",
    "trainLoader = DataLoader(train_dataset, batch_size=batch_size, shuffle=True, num_workers=2)\n",
    "testLoader = DataLoader(test_dataset, batch_size=batch_size,shuffle=False,num_workers=2)\n"
   ]
  },
  {
   "cell_type": "code",
   "execution_count": null,
   "id": "2007b025",
   "metadata": {},
   "outputs": [
    {
     "name": "stdout",
     "output_type": "stream",
     "text": [
      "hello world\n"
     ]
    }
   ],
   "source": []
  }
 ],
 "metadata": {
  "kernelspec": {
   "display_name": "Python 3",
   "language": "python",
   "name": "python3"
  },
  "language_info": {
   "codemirror_mode": {
    "name": "ipython",
    "version": 3
   },
   "file_extension": ".py",
   "mimetype": "text/x-python",
   "name": "python",
   "nbconvert_exporter": "python",
   "pygments_lexer": "ipython3",
   "version": "3.13.5"
  }
 },
 "nbformat": 4,
 "nbformat_minor": 5
}
